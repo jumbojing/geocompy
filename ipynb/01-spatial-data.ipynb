{
  "cells": [
    {
      "cell_type": "markdown",
      "metadata": {},
      "source": [
        "---\n",
        "jupyter: python3\n",
        "---\n",
        "\n",
        "# Geographic data in Python {#sec-spatial-class}"
      ]
    },
    {
      "cell_type": "code",
      "execution_count": null,
      "metadata": {},
      "outputs": [],
      "source": [
        "#| echo: false\n",
        "#| include: false\n",
        "#| error: true\n",
        "import map_to_png"
      ]
    },
    {
      "cell_type": "code",
      "execution_count": null,
      "metadata": {},
      "outputs": [],
      "source": [
        "#| echo: false\n",
        "import book_options"
      ]
    },
    {
      "cell_type": "code",
      "execution_count": null,
      "metadata": {},
      "outputs": [],
      "source": [
        "#| echo: false\n",
        "import book_options_pdf"
      ]
    },
    {
      "cell_type": "markdown",
      "metadata": {},
      "source": [
        "## Introduction\n",
        "\n",
        "This chapter outlines two fundamental geographic data models (vector and raster) and introduces Python packages for working with them.\n",
        "Before demonstrating their implementation in Python, we will introduce the theory behind each data model and the disciplines in which they predominate.\n",
        "\n",
        "The vector data model (@sec-vector-data) represents geographic entities with points, lines, and polygons.\n",
        "These have discrete, well-defined borders, meaning that vector datasets usually have a high level of precision (but not necessarily accuracy).\n",
        "The raster data model (@sec-raster-data), on the other hand, divides the surface up into cells of constant size.\n",
        "Raster datasets are the basis of background images used in online maps and have been a vital source of geographic data since the origins of aerial photography and satellite-based remote sensing devices.\n",
        "Rasters aggregate spatially specific features to a given resolution, meaning that they are consistent over space and scalable, with many worldwide raster datasets available.\n",
        "\n",
        "Which to use?\n",
        "The answer likely depends on your domain of application, and the datasets you have access to:\n",
        "\n",
        "-   Vector datasets and methods dominate the social sciences because human settlements and processes (e.g., transport infrastructure) tend to have discrete borders\n",
        "-   Raster datasets and methods dominate many environmental sciences because of the reliance on remote sensing data\n",
        "\n",
        "Python has strong support for both data models.\n",
        "We will focus on **shapely** and **geopandas** for working with geograpic vector data, and **rasterio** for working with rasters.\n",
        "\n",
        "**shapely** is a 'low-level' package for working with individual vector geometry objects.\n",
        "**geopandas** is a 'high-level' package for working with geometry columns (`GeoSeries` objects), which internally contain **shapely** geometries, and with vector layers (`GeoDataFrame` objects).\n",
        "The **geopandas** ecosystem provides a comprehensive approach for working with vector layers in Python, with many packages building on it.\n",
        "\n",
        "There are several partially overlapping packages for working with raster data, each with its own advantages and disadvantages.\n",
        "In this book, we focus on the most prominent one: **rasterio**, which represents 'simple' raster datasets with a combination of a **numpy** array, and a metadata object (`dict`) providing geographic metadata such as the coordinate system.\n",
        "**xarray** is a notable alternative to **rasterio** not covered in this book which uses native `xarray.Dataset` and `xarray.DataArray` classes to effectively represent complex raster datasets such as NetCDF files with multiple bands and metadata.\n",
        "\n",
        "There is much overlap in some fields, and raster and vector datasets can be used together: ecologists and demographers, for example, commonly use both vector and raster data.\n",
        "Furthermore, it is possible to convert between the two forms (see @sec-raster-vector).\n",
        "Whether your work involves use of vector or raster datasets, it is worth understanding the underlying data models before using them, as discussed in subsequent chapters.\n",
        "\n",
        "## Vector data {#sec-vector-data}\n",
        "\n",
        "The geographic vector data model is based on points located within a coordinate reference system (CRS).\n",
        "Points can represent self-standing features (e.g., the location of a bus stop), or they can be linked together to form more complex geometries such as lines and polygons.\n",
        "Most point geometries contain only two dimensions (three-dimensional CRSs may contain an additional $z$ value, typically representing height above sea level).\n",
        "\n",
        "In this system, London, for example, can be represented by the coordinates `(-0.1,51.5)`.\n",
        "This means that its location is -0.1 degrees east and 51.5 degrees north of the origin.\n",
        "The origin, in this case, is at 0 degrees longitude (a prime meridian located at Greenwich) and 0 degrees latitude (the Equator) in a geographic ('lon/lat') CRS (@fig-vector-london, left panel).\n",
        "The same point could also be approximated in a projected CRS with 'Easting/Northing' values of `(530000,180000)` in the British National Grid, meaning that London is located 530 $km$ East and 180 $km$ North of the origin of the CRS (@fig-vector-london, right panel).\n",
        "The location of National Grid's origin, in the sea beyond South West Peninsular, ensures that most locations in the UK have positive Easting and Northing values.\n",
        "\n",
        "::: {#fig-vector-london layout-ncol=2}\n",
        "\n",
        "![](https://py.geocompx.org/images/vector_lonlat.png)\n",
        "\n",
        "![](https://py.geocompx.org/images/vector_projected.png)\n",
        "\n",
        "Illustration of vector (point) data in which location of London (the red X) is represented with reference to an origin (the blue circle). \n",
        "The left plot represents a geographic CRS with an origin at 0° longitude and latitude. \n",
        "The right plot represents a projected CRS with an origin located in the sea west of the South West Peninsula.\n",
        ":::\n",
        "\n",
        "There is more to CRSs, as described in @sec-coordinate-reference-systems-intro and @sec-reproj-geo-data but, for the purposes of this section, it is sufficient to know that coordinates consist of two numbers representing the distance from an origin, usually in $x$ and $y$ dimensions.\n",
        "\n",
        "**geopandas** [@geopandas] provides classes for geographic vector data and a consistent command-line interface for reproducible geographic data analysis in Python.\n",
        "It also provides an interface to three mature libraries for geocomputation, a strong foundation on which many geographic applications are built:\n",
        "\n",
        "-   GDAL, for reading, writing, and manipulating a wide range of geographic data formats, covered in @sec-read-write\n",
        "-   PROJ, a powerful library for coordinate system transformations, which underlies the content covered in @sec-reproj-geo-data\n",
        "-   GEOS, a planar geometry engine for operations such as calculating buffers and centroids on data with a projected CRS, covered in @sec-geometric-operations\n",
        "\n",
        "Tight integration with these geographic libraries makes reproducible geocomputation possible: an advantage of using a higher-level language such as Python to access these libraries is that you do not need to know the intricacies of the low-level components, enabling focus on the methods rather than the implementation.\n",
        "\n",
        "### Vector data classes\n",
        "\n",
        "The main classes for working with geographic vector data in Python are hierarchical, meaning that the 'vector layer' class is composed of simpler 'geometry column' and individual 'geometry' components.\n",
        "This section introduces them in order, starting with the highest level class.\n",
        "For many applications, the vector layer class, a data frame with geometry columns, is all that's needed.\n",
        "However, it's important to understand the structure of vector geographic objects and their components for some applications and for a deep understanding.\n",
        "The three main vector geographic data classes in Python are:\n",
        "\n",
        "-   `GeoDataFrame`, a class representing vector layers, with a geometry column (class `GeoSeries`) as one of the columns\n",
        "-   `GeoSeries`, a class that is used to represent the geometry column in `GeoDataFrame` objects\n",
        "-   `shapely` geometry objects, which represent individual geometries, such as a point or a polygon in `GeoSeries` objects\n",
        "\n",
        "The first two classes (`GeoDataFrame` and `GeoSeries`) are defined in **geopandas**.\n",
        "The third class is defined in the **shapely** package, which deals with individual geometries, and is a main dependency of the **geopandas** package.\n",
        "\n",
        "### Vector layers {#sec-vector-layers}\n",
        "\n",
        "The most commonly used geographic vector data structure is the vector layer.\n",
        "There are several approaches for working with vector layers in Python, ranging from low-level packages (e.g., **osgeo**, **fiona**) to the relatively high-level **geopandas** package that is the focus of this section.\n",
        "Before writing and running code for creating and working with geographic vector objects, we need to import **geopandas** (by convention as `gpd` for more concise code) and **shapely**."
      ]
    },
    {
      "cell_type": "code",
      "execution_count": null,
      "metadata": {},
      "outputs": [],
      "source": [
        "import pandas as pd\n",
        "import shapely\n",
        "import geopandas as gpd"
      ]
    },
    {
      "cell_type": "markdown",
      "metadata": {},
      "source": [
        "We also limit the maximum number of printed rows to six, to save space, using the `'display.max_rows'` option of **pandas**."
      ]
    },
    {
      "cell_type": "code",
      "execution_count": null,
      "metadata": {},
      "outputs": [],
      "source": [
        "pd.set_option('display.max_rows', 6)"
      ]
    },
    {
      "cell_type": "markdown",
      "metadata": {},
      "source": [
        "Projects often start by importing an existing vector layer saved as a GeoPackage (`.gpkg`) file, an ESRI Shapefile (`.shp`), or other geographic file format.\n",
        "The function `gpd.read_file` imports a GeoPackage file named `world.gpkg` located in the `data` directory of Python's working directory into a `GeoDataFrame` named `gdf`."
      ]
    },
    {
      "cell_type": "code",
      "execution_count": null,
      "metadata": {},
      "outputs": [],
      "source": [
        "#| echo: false\n",
        "#| label: getdata\n",
        "from pathlib import Path\n",
        "import os\n",
        "import shutil\n",
        "data_path = Path('data')\n",
        "\n",
        "if data_path.is_dir():\n",
        "  pass\n",
        "  # print('path exists') # directory exists\n",
        "else:\n",
        "  print('Attempting to get and unzip the data')\n",
        "  import requests, zipfile, io\n",
        "  r = requests.get('https://github.com/geocompx/geocompy/releases/download/0.1/data.zip')\n",
        "  z = zipfile.ZipFile(io.BytesIO(r.content))\n",
        "  z.extractall('.')\n",
        "\n",
        "data_path = Path('data/cycle_hire_osm.gpkg')\n",
        "\n",
        "if data_path.is_file():\n",
        "  pass\n",
        "  # print('path exists') # directory exists\n",
        "else:\n",
        "  print('Attempting to move data')\n",
        "  r = requests.get('https://github.com/geocompx/geocompy/archive/refs/heads/main.zip')\n",
        "  z = zipfile.ZipFile(io.BytesIO(r.content))\n",
        "  z.extractall('.')\n",
        "  shutil.copytree('py-main/data', 'data', dirs_exist_ok=True) \n",
        "\n",
        "data_path = Path('output')\n",
        "\n",
        "if data_path.is_dir():\n",
        "  pass\n",
        "  # print('path exists') # directory exists\n",
        "else:\n",
        "  print('Attempting to move data')\n",
        "  shutil.copytree('py-main/output', 'output', dirs_exist_ok=True) "
      ]
    },
    {
      "cell_type": "code",
      "execution_count": null,
      "metadata": {},
      "outputs": [],
      "source": [
        "gdf = gpd.read_file('data/world.gpkg')"
      ]
    },
    {
      "cell_type": "markdown",
      "metadata": {},
      "source": [
        "The result is an object of type (class) `GeoDataFrame` with 177 rows (features) and 11 columns, as shown in the output of the following code:"
      ]
    },
    {
      "cell_type": "code",
      "execution_count": null,
      "metadata": {},
      "outputs": [],
      "source": [
        "#| label: typegdf\n",
        "type(gdf)"
      ]
    },
    {
      "cell_type": "code",
      "execution_count": null,
      "metadata": {},
      "outputs": [],
      "source": [
        "gdf.shape"
      ]
    },
    {
      "cell_type": "markdown",
      "metadata": {},
      "source": [
        "The `GeoDataFrame` class is an extension of the `DataFrame` class from the popular **pandas** package [@pandas].\n",
        "This means we can treat non-spatial attributes from a vector layer as a table, and process them using the ordinary, i.e., non-spatial, established function methods.\n",
        "For example, standard data frame subsetting methods can be used.\n",
        "The code below creates a subset of the `gdf` dataset containing only the country name and the geometry."
      ]
    },
    {
      "cell_type": "code",
      "execution_count": null,
      "metadata": {},
      "outputs": [],
      "source": [
        "gdf = gdf[['name_long', 'geometry']]\n",
        "gdf"
      ]
    },
    {
      "cell_type": "markdown",
      "metadata": {},
      "source": [
        "The following expression creates a subdataset based on a condition, such as equality of the value in the `'name_long'` column to the string `'Egypt'`."
      ]
    },
    {
      "cell_type": "code",
      "execution_count": null,
      "metadata": {},
      "outputs": [],
      "source": [
        "gdf[gdf['name_long'] == 'Egypt']"
      ]
    },
    {
      "cell_type": "markdown",
      "metadata": {},
      "source": [
        "Finally, to get a sense of the spatial component of the vector layer, it can be plotted using the `.plot` method (@fig-gdf-plot)."
      ]
    },
    {
      "cell_type": "code",
      "execution_count": null,
      "metadata": {},
      "outputs": [],
      "source": [
        "#| label: fig-gdf-plot\n",
        "#| fig-cap: Basic plot of a `GeoDataFrame`\n",
        "gdf.plot();"
      ]
    },
    {
      "cell_type": "markdown",
      "metadata": {},
      "source": [
        "Interactive maps of `GeoDataFrame` objects can be created with the `.explore` method, as illustrated in @fig-gdf-explore which was created with the following command:\n",
        "\n",
        ":::  {.content-visible when-format=\"html\"}"
      ]
    },
    {
      "cell_type": "code",
      "execution_count": null,
      "metadata": {},
      "outputs": [],
      "source": [
        "#| label: fig-gdf-explore\n",
        "#| fig-cap: Basic interactive map with `.explore`\n",
        "gdf.explore()"
      ]
    },
    {
      "cell_type": "markdown",
      "metadata": {},
      "source": [
        ":::\n",
        ":::  {.content-visible when-format=\"pdf\"}"
      ]
    },
    {
      "cell_type": "code",
      "execution_count": null,
      "metadata": {},
      "outputs": [],
      "source": [
        "#| eval: false\n",
        "gdf.explore()"
      ]
    },
    {
      "cell_type": "code",
      "execution_count": null,
      "metadata": {},
      "outputs": [],
      "source": [
        "#| echo: false\n",
        "#| output: false\n",
        "#| error: true\n",
        "map_to_png.map_to_png(gdf.explore(), 'fig-gdf-explore')"
      ]
    },
    {
      "cell_type": "markdown",
      "metadata": {},
      "source": [
        "![Basic interactive map with `.explore`](images/fig-gdf-explore.png){#fig-gdf-explore}\n",
        ":::\n",
        "\n",
        "A subset of the data can be also plotted in a similar fashion.\n",
        "\n",
        ":::  {.content-visible when-format=\"html\"}"
      ]
    },
    {
      "cell_type": "code",
      "execution_count": null,
      "metadata": {},
      "outputs": [],
      "source": [
        "#| label: fig-gdf-explore2\n",
        "#| fig-cap: Interactive map of a `GeoDataFrame` subset\n",
        "gdf[gdf['name_long'] == 'Egypt'].explore()"
      ]
    },
    {
      "cell_type": "markdown",
      "metadata": {},
      "source": [
        ":::\n",
        ":::  {.content-visible when-format=\"pdf\"}"
      ]
    },
    {
      "cell_type": "code",
      "execution_count": null,
      "metadata": {},
      "outputs": [],
      "source": [
        "#| eval: false\n",
        "gdf[gdf['name_long'] == 'Egypt'].explore()"
      ]
    },
    {
      "cell_type": "code",
      "execution_count": null,
      "metadata": {},
      "outputs": [],
      "source": [
        "#| echo: false\n",
        "#| output: false\n",
        "#| error: true\n",
        "map_to_png.map_to_png(gdf[gdf['name_long'] == 'Egypt'].explore(), 'fig-gdf-explore2')"
      ]
    },
    {
      "cell_type": "markdown",
      "metadata": {},
      "source": [
        "![Interactive map of a `GeoDataFrame` subset](images/fig-gdf-explore2.png){#fig-gdf-explore2}\n",
        ":::\n",
        "\n",
        "### Geometry columns {#sec-geometry-columns}\n",
        "\n",
        "The geometry column of class `GeoSeries` is an essential column in a `GeoDataFrame`.\n",
        "It contains the geometric part of the vector layer, and is the basis for all spatial operations.\n",
        "This column can be accessed by name, which typically (e.g., when reading from a file) is `'geometry'`, as in `gdf['geometry']`.\n",
        "However, the recommendation is to use the fixed `.geometry` property, which refers to the geometry column regardless whether its name is `'geometry'` or not.\n",
        "In the case of the `gdf` object, the geometry column contains `'MultiPolygon'`s associated with each country."
      ]
    },
    {
      "cell_type": "code",
      "execution_count": null,
      "metadata": {},
      "outputs": [],
      "source": [
        "gdf.geometry"
      ]
    },
    {
      "cell_type": "markdown",
      "metadata": {},
      "source": [
        "The geometry column also contains the spatial reference information, if any (also accessible with the shortcut `gdf.crs`)."
      ]
    },
    {
      "cell_type": "code",
      "execution_count": null,
      "metadata": {},
      "outputs": [],
      "source": [
        "gdf.geometry.crs"
      ]
    },
    {
      "cell_type": "markdown",
      "metadata": {},
      "source": [
        "Many geometry operations, such as calculating the centroid, buffer, or bounding box of each feature, involve just the geometry.\n",
        "Applying this type of operation on a `GeoDataFrame` is therefore basically a shortcut to applying it on the `GeoSeries` object in the geometry column.\n",
        "For example, the two following commands return exactly the same result, a `GeoSeries` containing bounding box polygons (using the `.envelope` method)."
      ]
    },
    {
      "cell_type": "code",
      "execution_count": null,
      "metadata": {},
      "outputs": [],
      "source": [
        "gdf.envelope"
      ]
    },
    {
      "cell_type": "code",
      "execution_count": null,
      "metadata": {},
      "outputs": [],
      "source": [
        "gdf.geometry.envelope"
      ]
    },
    {
      "cell_type": "markdown",
      "metadata": {},
      "source": [
        "Note that `.envelope`, and other similar operators in **geopandas** such as `.centroid` (@sec-centroids), `.buffer` (@sec-buffers), or `.convex_hull`, return only the geometry (i.e., a `GeoSeries`), not a `GeoDataFrame` with the original attribute data.\n",
        "In case we want the latter, we can create a copy of the `GeoDataFrame` and then 'overwrite' its geometry (or, we can overwrite the geometries directly in case we do not need the original ones, as in `gdf.geometry=gdf.envelope`)."
      ]
    },
    {
      "cell_type": "code",
      "execution_count": null,
      "metadata": {},
      "outputs": [],
      "source": [
        "gdf2 = gdf.copy()\n",
        "gdf2.geometry = gdf.envelope\n",
        "gdf2"
      ]
    },
    {
      "cell_type": "markdown",
      "metadata": {},
      "source": [
        "Another useful property of the geometry column is the geometry type, as shown in the following code.\n",
        "Note that the types of geometries contained in a geometry column (and, thus, a vector layer) are not necessarily the same for every row. \n",
        "It is possible to have multiple geometry types in a single `GeoSeries`.\n",
        "Accordingly, the `.type` property returns a `Series` (with values of type `str`, i.e., strings), rather than a single value (the same can be done with the shortcut `gdf.geom_type`)."
      ]
    },
    {
      "cell_type": "code",
      "execution_count": null,
      "metadata": {},
      "outputs": [],
      "source": [
        "gdf.geometry.type"
      ]
    },
    {
      "cell_type": "markdown",
      "metadata": {},
      "source": [
        "To summarize the occurrence of different geometry types in a geometry column, we can use the **pandas** `.value_counts` method.\n",
        "In this case, we see that the `gdf` layer contains only `'MultiPolygon'` geometries."
      ]
    },
    {
      "cell_type": "code",
      "execution_count": null,
      "metadata": {},
      "outputs": [],
      "source": [
        "gdf.geometry.type.value_counts()"
      ]
    },
    {
      "cell_type": "markdown",
      "metadata": {},
      "source": [
        "A `GeoDataFrame` can also have multiple `GeoSeries` columns, as demonstrated in the following code section."
      ]
    },
    {
      "cell_type": "code",
      "execution_count": null,
      "metadata": {},
      "outputs": [],
      "source": [
        "#| output: false \n",
        "gdf['bbox'] = gdf.envelope\n",
        "gdf['polygon'] = gdf.geometry\n",
        "gdf"
      ]
    },
    {
      "cell_type": "markdown",
      "metadata": {},
      "source": [
        "Only one geometry column at a time is 'active', in the sense that it is being accessed in operations involving the geometries (such as `.centroid`, `.crs`, etc.).\n",
        "To switch the active geometry column from one `GeoSeries` column to another, we use `.set_geometry`.\n",
        "@fig-switch-to-centroids and @fig-switch-to-polygons shows interactive maps of the `gdf` layer with the `'bbox'` and `'polygon'` geometry columns activated, respectively.\n",
        "\n",
        ":::  {.content-visible when-format=\"html\"}"
      ]
    },
    {
      "cell_type": "code",
      "execution_count": null,
      "metadata": {},
      "outputs": [],
      "source": [
        "#| label: fig-switch-to-centroids\n",
        "#| fig-cap: Switching to the `'bbox'` geometry column in the `world` layer, and plotting it\n",
        "gdf = gdf.set_geometry('bbox')\n",
        "gdf.explore()"
      ]
    },
    {
      "cell_type": "markdown",
      "metadata": {},
      "source": [
        ":::\n",
        ":::  {.content-visible when-format=\"pdf\"}"
      ]
    },
    {
      "cell_type": "code",
      "execution_count": null,
      "metadata": {},
      "outputs": [],
      "source": [
        "#| eval: false\n",
        "gdf = gdf.set_geometry('bbox')\n",
        "gdf.explore()"
      ]
    },
    {
      "cell_type": "code",
      "execution_count": null,
      "metadata": {},
      "outputs": [],
      "source": [
        "#| echo: false\n",
        "#| output: false\n",
        "#| error: true\n",
        "gdf = gdf.set_geometry('bbox')\n",
        "map_to_png.map_to_png(gdf.explore(), 'fig-switch-to-centroids')"
      ]
    },
    {
      "cell_type": "markdown",
      "metadata": {},
      "source": [
        "![Switching to the `'bbox'` geometry column in the `world` layer, and plotting it](images/fig-switch-to-centroids.png){#fig-switch-to-centroids}\n",
        ":::\n",
        "\n",
        ":::  {.content-visible when-format=\"html\"}"
      ]
    },
    {
      "cell_type": "code",
      "execution_count": null,
      "metadata": {},
      "outputs": [],
      "source": [
        "#| label: fig-switch-to-polygons\n",
        "#| fig-cap: Switching to the `'polygons'` geometry column in the `world` layer, and plotting it\n",
        "gdf = gdf.set_geometry('polygon')\n",
        "gdf.explore()"
      ]
    },
    {
      "cell_type": "markdown",
      "metadata": {},
      "source": [
        ":::\n",
        ":::  {.content-visible when-format=\"pdf\"}"
      ]
    },
    {
      "cell_type": "code",
      "execution_count": null,
      "metadata": {},
      "outputs": [],
      "source": [
        "#| eval: false\n",
        "gdf = gdf.set_geometry('polygon')\n",
        "gdf.explore()"
      ]
    },
    {
      "cell_type": "code",
      "execution_count": null,
      "metadata": {},
      "outputs": [],
      "source": [
        "#| echo: false\n",
        "#| output: false\n",
        "#| error: true\n",
        "gdf = gdf.set_geometry('polygon')\n",
        "map_to_png.map_to_png(gdf.explore(), 'fig-switch-to-polygons')"
      ]
    },
    {
      "cell_type": "markdown",
      "metadata": {},
      "source": [
        "![Switching to the `'polygons'` geometry column in the `world` layer, and plotting it](images/fig-switch-to-polygons.png){#fig-switch-to-polygons}\n",
        ":::\n",
        "\n",
        "### The Simple Features standard {#sec-simple-features}\n",
        "\n",
        "Geometries are the basic building blocks of vector layers.\n",
        "Although the Simple Features standard defines about 20 types of geometries, we will focus on the seven most commonly used types: `POINT`, `LINESTRING`, `POLYGON`, `MULTIPOINT`, `MULTILINESTRING`, `MULTIPOLYGON` and `GEOMETRYCOLLECTION`.\n",
        "A useful list of possible geometry types can be found in R's **sf** package documentation[^sf_docs].\n",
        "\n",
        "[^sf_docs]: [https://r-spatial.github.io/sf/articles/sf1.html#simple-feature-geometry-types](https://r-spatial.github.io/sf/articles/sf1.html#simple-feature-geometry-types)\n",
        "\n",
        "Simple feature geometries can be represented by well-known binary (WKB) and well-known text (WKT) encodings.\n",
        "<!-- TODO: add reference or at least link to OGC document on this? --> WKB representations are usually hexadecimal strings easily readable for computers, and this is why GIS software and spatial databases use WKB to transfer and store geometry objects.\n",
        "WKT, on the other hand, is a human-readable text markup description of Simple Features.\n",
        "Both formats are exchangeable, and if we present one, we will naturally choose the WKT representation.\n",
        "\n",
        "The foundation of each geometry type is the point.\n",
        "A point is simply a coordinate in two-dimensional, three-dimensional, or four-dimensional space such as shown in @fig-point.\n",
        "\n",
        "``` text\n",
        "POINT (5 2)\n",
        "```\n",
        "\n",
        "A linestring is a sequence of points with a straight line connecting the points (@fig-linestring).\n",
        "\n",
        "``` text\n",
        "LINESTRING (1 5, 4 4, 4 1, 2 2, 3 2)\n",
        "```\n",
        "\n",
        "A polygon is a sequence of points that form a closed, non-intersecting ring.\n",
        "Closed means that the first and the last point of a polygon have the same coordinates (@fig-polygon).\n",
        "\n",
        "``` text\n",
        "POLYGON ((1 5, 2 2, 4 1, 4 4, 1 5))\n",
        "```\n",
        "\n",
        "So far we have created geometries with only one geometric entity per feature.\n",
        "However, the Simple Features standard allows multiple geometries to exist within a single feature, using 'multi' versions of each geometry type, as illustrated in @fig-multipoint, @fig-multilinestring, and @fig-multipolygon1.\n",
        "\n",
        "``` text\n",
        "MULTIPOINT (5 2, 1 3, 3 4, 3 2)\n",
        "MULTILINESTRING ((1 5, 4 4, 4 1, 2 2, 3 2), (1 2, 2 4))\n",
        "MULTIPOLYGON (((1 5, 2 2, 4 1, 4 4, 1 5), (0 2, 1 2, 1 3, 0 3, 0 2)))\n",
        "```\n",
        "\n",
        "Finally, a geometry collection can contain any combination of geometries of the other six types, such as the combination of a multipoint and linestring shown below (@fig-geometrycollection).\n",
        "\n",
        "``` text\n",
        "GEOMETRYCOLLECTION (MULTIPOINT (5 2, 1 3, 3 4, 3 2),\n",
        "                    LINESTRING (1 5, 4 4, 4 1, 2 2, 3 2))\n",
        "```\n",
        "\n",
        "### Geometries {#sec-geometries}\n",
        "\n",
        "Each element in the geometry column (`GeoSeries`) is a geometry object of class `shapely` [@shapely].\n",
        "For example, here is one specific geometry selected by implicit index (Canada, the 4^th^ element in `gdf`'s geometry column)."
      ]
    },
    {
      "cell_type": "code",
      "execution_count": null,
      "metadata": {},
      "outputs": [],
      "source": [
        "gdf.geometry.iloc[3]"
      ]
    },
    {
      "cell_type": "markdown",
      "metadata": {},
      "source": [
        "We can also select a specific geometry based on the `'name_long'` attribute (i.e., the 1^st^ and only element in the subset of `gdf` where the country name is equal to `Egypt`):"
      ]
    },
    {
      "cell_type": "code",
      "execution_count": null,
      "metadata": {},
      "outputs": [],
      "source": [
        "gdf[gdf['name_long'] == 'Egypt'].geometry.iloc[0]"
      ]
    },
    {
      "cell_type": "markdown",
      "metadata": {},
      "source": [
        "The **shapely** package is compatible with the Simple Features standard (@sec-simple-features).\n",
        "Accordingly, seven types of geometry types are supported.\n",
        "The following section demonstrates creating a `shapely` geometry of each type from scratch.\n",
        "In the first example (a `'Point'`) we show two types of inputs to create a geometry: a list of coordinates or a `string` in the WKT format.\n",
        "In the examples for the remaining geometries we use the former approach.\n",
        "\n",
        "Creating a `'Point'` geometry from a list of coordinates uses the `shapely.Point` function in the following expression (@fig-point)."
      ]
    },
    {
      "cell_type": "code",
      "execution_count": null,
      "metadata": {},
      "outputs": [],
      "source": [
        "#| label: fig-point\n",
        "#| fig-cap: A `Point` geometry (created either from a `list` or WKT)\n",
        "point = shapely.Point([5, 2])\n",
        "point"
      ]
    },
    {
      "cell_type": "markdown",
      "metadata": {},
      "source": [
        "Alternatively, we can use `shapely.from_wkt` to transform a WKT string to a `shapely` geometry object.\n",
        "Here is an example of creating the same `'Point'` geometry from WKT (@fig-point)."
      ]
    },
    {
      "cell_type": "code",
      "execution_count": null,
      "metadata": {},
      "outputs": [],
      "source": [
        "#| output: false\n",
        "point = shapely.from_wkt('POINT (5 2)')\n",
        "point"
      ]
    },
    {
      "cell_type": "markdown",
      "metadata": {},
      "source": [
        "A `'LineString'` geometry can be created based on a list of coordinate tuples or lists (@fig-linestring)."
      ]
    },
    {
      "cell_type": "code",
      "execution_count": null,
      "metadata": {},
      "outputs": [],
      "source": [
        "#| label: fig-linestring\n",
        "#| fig-cap: A `LineString` geometry\n",
        "linestring = shapely.LineString([(1,5), (4,4), (4,1), (2,2), (3,2)])\n",
        "linestring"
      ]
    },
    {
      "cell_type": "markdown",
      "metadata": {},
      "source": [
        "Creation of a `'Polygon'` geometry is similar, but our first and last coordinate must be the same, to ensure that the polygon is closed.\n",
        "Note that in the following example, there is one list of coordinates that defines the exterior outer hull of the polygon, followed by a `list` of `list`s of coordinates that define the holes (if any) in the polygon (@fig-polygon)."
      ]
    },
    {
      "cell_type": "code",
      "execution_count": null,
      "metadata": {},
      "outputs": [],
      "source": [
        "#| label: fig-polygon\n",
        "#| fig-cap: A `Polygon` geometry\n",
        "polygon = shapely.Polygon(\n",
        "    [(1,5), (2,2), (4,1), (4,4), (1,5)],  ## Exterior\n",
        "    [[(2,4), (3,4), (3,3), (2,3), (2,4)]]  ## Hole(s)\n",
        ")\n",
        "polygon"
      ]
    },
    {
      "cell_type": "markdown",
      "metadata": {},
      "source": [
        "A `'MultiPoint'` geometry is also created from a list of coordinate tuples (@fig-multipoint), where each element represents a single point."
      ]
    },
    {
      "cell_type": "code",
      "execution_count": null,
      "metadata": {},
      "outputs": [],
      "source": [
        "#| label: fig-multipoint\n",
        "#| fig-cap: A `MultiPoint` geometry\n",
        "multipoint = shapely.MultiPoint([(5,2), (1,3), (3,4), (3,2)])\n",
        "multipoint"
      ]
    },
    {
      "cell_type": "markdown",
      "metadata": {},
      "source": [
        "A `'MultiLineString'` geometry, on the other hand, has one list of coordinates for each line in the `MultiLineString` (@fig-multilinestring)."
      ]
    },
    {
      "cell_type": "code",
      "execution_count": null,
      "metadata": {},
      "outputs": [],
      "source": [
        "#| label: fig-multilinestring\n",
        "#| fig-cap: A `MultiLineString` geometry\n",
        "multilinestring = shapely.MultiLineString([\n",
        "    [(1,5), (4,4), (4,1), (2,2), (3,2)],  ## 1st sequence\n",
        "    [(1,2), (2,4)]  ## 2nd sequence, etc.\n",
        "])\n",
        "multilinestring"
      ]
    },
    {
      "cell_type": "markdown",
      "metadata": {},
      "source": [
        "A `'MultiPolygon'` geometry (@fig-multipolygon1) is created from a `list` of `Polygon` geometries. For example, here we are creating a `'MultiPolygon'` with two parts, both without holes."
      ]
    },
    {
      "cell_type": "code",
      "execution_count": null,
      "metadata": {},
      "outputs": [],
      "source": [
        "#| label: fig-multipolygon1\n",
        "#| fig-cap: A `MultiPolygon` geometry\n",
        "multipolygon = shapely.MultiPolygon([\n",
        "    [[(1,5), (2,2), (4,1), (4,4), (1,5)], []],  ## Polygon 1 \n",
        "    [[(0,2), (1,2), (1,3), (0,3), (0,2)], []]   ## Polygon 2, etc.\n",
        "])\n",
        "multipolygon"
      ]
    },
    {
      "cell_type": "markdown",
      "metadata": {},
      "source": [
        "Since the required input has four hierarchical levels, it may be more clear to create the single-part `'Polygon'` geometries in advance, using the respective function (`shapely.Polygon`), and then pass them to `shapely.MultiPolygon` (@fig-multipolygon1). (The same technique can be used with the other `shapely.Multi*` functions.)"
      ]
    },
    {
      "cell_type": "code",
      "execution_count": null,
      "metadata": {},
      "outputs": [],
      "source": [
        "#| output: false\n",
        "multipolygon = shapely.MultiPolygon([\n",
        "    shapely.Polygon([(1,5), (2,2), (4,1), (4,4), (1,5)]),  ## Polygon 1 \n",
        "    shapely.Polygon([(0,2), (1,2), (1,3), (0,3), (0,2)])   ## Polygon 2, etc.\n",
        "])\n",
        "multipolygon"
      ]
    },
    {
      "cell_type": "markdown",
      "metadata": {},
      "source": [
        "And, finally, a `'GeometryCollection'` geometry is a `list` with one or more of the other six geometry types (@fig-geometrycollection):"
      ]
    },
    {
      "cell_type": "code",
      "execution_count": null,
      "metadata": {},
      "outputs": [],
      "source": [
        "#| label: fig-geometrycollection\n",
        "#| fig-cap: A `GeometryCollection` geometry\n",
        "geometrycollection = shapely.GeometryCollection([multipoint, multilinestring])\n",
        "geometrycollection"
      ]
    },
    {
      "cell_type": "markdown",
      "metadata": {},
      "source": [
        "`shapely` geometries act as atomic units of vector data, meaning that there is no concept of geometry *sets*: each operation accepts individual geometry object(s) as input, and returns an individual geometry as output. \n",
        "(The `GeoSeries` and `GeoDataFrame` objects, defined in **geopandas**, are used to deal with sets of `shapely` geometries, collectively.)\n",
        "For example, the following expression calculates the difference (see @sec-clipping) between the buffered (see @sec-buffers) `multipolygon` (using distance of `0.2`) and itself (@fig-mpol-buffer-difference):"
      ]
    },
    {
      "cell_type": "code",
      "execution_count": null,
      "metadata": {},
      "outputs": [],
      "source": [
        "#| label: fig-mpol-buffer-difference\n",
        "#| fig-cap: The difference between a buffered `MultiPolygon` and itself\n",
        "multipolygon.buffer(0.2).difference(multipolygon)"
      ]
    },
    {
      "cell_type": "markdown",
      "metadata": {},
      "source": [
        "As demonstrated in the last few figures, a `shapely` geometry object is automatically evaluated to a small image of the geometry (when using an interface capable of displaying it, such as Jupyter Notebook).\n",
        "To print the WKT string instead, we can use the `print` function:"
      ]
    },
    {
      "cell_type": "code",
      "execution_count": null,
      "metadata": {},
      "outputs": [],
      "source": [
        "print(linestring)"
      ]
    },
    {
      "cell_type": "markdown",
      "metadata": {},
      "source": [
        "Finally, it is important to note that raw coordinates of `shapely` geometries are accessible through a combination of the `.coords`, `.geoms`, `.exterior`, and `.interiors` properties (depending on the geometry type).\n",
        "These access methods are helpful when we need to develop our own spatial operators for specific tasks.\n",
        "For example, the following expression returns the `list` of all coordinates of the `polygon` geometry exterior:"
      ]
    },
    {
      "cell_type": "code",
      "execution_count": null,
      "metadata": {},
      "outputs": [],
      "source": [
        "list(polygon.exterior.coords)"
      ]
    },
    {
      "cell_type": "markdown",
      "metadata": {},
      "source": [
        "Also see @sec-type-transformations, where `.coords`, `.geoms`, and `.exterior` are used to transform a given `shapely` geometry to a different type (e.g., `'Polygon'` to `'MultiPoint'`).\n",
        "\n",
        "### Vector layer from scratch {#sec-vector-layer-from-scratch}\n",
        "\n",
        "In the previous sections, we started with a vector layer (`GeoDataFrame`), from an existing GeoPackage file, and 'decomposed' it to extract the geometry column (`GeoSeries`, @sec-geometry-columns) and separate geometries (`shapely`, see @sec-geometries).\n",
        "In this section, we will demonstrate the opposite process, constructing a `GeoDataFrame` from `shapely` geometries, combined into a `GeoSeries`.\n",
        "This will help you better understand the structure of a `GeoDataFrame`, and may come in handy when you need to programmatically construct simple vector layers, such as a line between two given points.\n",
        "\n",
        "Vector layers consist of two main parts: geometries and non-geographic attributes.\n",
        "@fig-gdf-flow shows how a `GeoDataFrame` object is created---geometries come from a `GeoSeries` object (which consists of `shapely` geometries), while attributes are taken from `Series` objects.\n",
        "\n",
        "![Creating a `GeoDataFrame` from scratch](images/gdf-flow.svg){#fig-gdf-flow}\n",
        "\n",
        "The final result, a vector layer (`GeoDataFrame`) is therefore a hierarchical structure (@fig-gdf-structure), containing the geometry column (`GeoSeries`), which in turn contains geometries (`shapely`).\n",
        "Each of the 'internal' components can be accessed, or 'extracted', which is sometimes necessary, as we will see later on.\n",
        "\n",
        "![Structure of a `GeoDataFrame`](images/gdf-structure.svg){width=40% fig-align=\"center\" #fig-gdf-structure}\n",
        "\n",
        "Non-geographic attributes may represent the name of the feature, and other attributes such as measured values, groups, etc.\n",
        "To illustrate attributes, we will represent a temperature of 25°C in London on June 21st, 2023.\n",
        "This example contains a geometry (the coordinates), and three attributes with three different classes (place name, temperature, and date).\n",
        "Objects of class `GeoDataFrame` represent such data by combining the attributes (`Series`) with the simple feature geometry column (`GeoSeries`).\n",
        "First, we create a point geometry, which we know how to do from @sec-geometries (@fig-point-lnd)."
      ]
    },
    {
      "cell_type": "code",
      "execution_count": null,
      "metadata": {},
      "outputs": [],
      "source": [
        "#| label: fig-point-lnd\n",
        "#| fig-cap: A `shapely` point representing London\n",
        "lnd_point = shapely.Point(0.1, 51.5)\n",
        "lnd_point"
      ]
    },
    {
      "cell_type": "markdown",
      "metadata": {},
      "source": [
        "Next, we create a `GeoSeries` (of length 1), containing the point and a CRS definition, in this case WGS84 (defined using its EPSG code `4326`).\n",
        "Also note that the `shapely` geometries go into a `list`, to illustrate that there can be more than one geometry unlike in this example."
      ]
    },
    {
      "cell_type": "code",
      "execution_count": null,
      "metadata": {},
      "outputs": [],
      "source": [
        "lnd_geom = gpd.GeoSeries([lnd_point], crs=4326)\n",
        "lnd_geom"
      ]
    },
    {
      "cell_type": "markdown",
      "metadata": {},
      "source": [
        "Next, we combine the `GeoSeries` with other attributes into a `dict`.\n",
        "The geometry column is a `GeoSeries`, named `geometry`.\n",
        "The other attributes (if any) may be defined using `list` or `Series` objects.\n",
        "Here, for simplicity, we use the `list` option for defining the three attributes `name`, `temperature`, and `date`.\n",
        "Again, note that the `list` can be of length \\>1, in case we are creating a layer with more than one feature (i.e., multiple rows)."
      ]
    },
    {
      "cell_type": "code",
      "execution_count": null,
      "metadata": {},
      "outputs": [],
      "source": [
        "lnd_data = {\n",
        "  'name': ['London'],\n",
        "  'temperature': [25],\n",
        "  'date': ['2023-06-21'],\n",
        "  'geometry': lnd_geom\n",
        "}"
      ]
    },
    {
      "cell_type": "markdown",
      "metadata": {},
      "source": [
        "Finally, the `dict` can be converted to a `GeoDataFrame` object, as shown in the following code."
      ]
    },
    {
      "cell_type": "code",
      "execution_count": null,
      "metadata": {},
      "outputs": [],
      "source": [
        "lnd_layer = gpd.GeoDataFrame(lnd_data)\n",
        "lnd_layer"
      ]
    },
    {
      "cell_type": "markdown",
      "metadata": {},
      "source": [
        "What just happened?\n",
        "First, the coordinates were used to create the simple feature geometry (`shapely`).\n",
        "Second, the geometry was converted into a simple feature geometry column (`GeoSeries`), with a CRS.\n",
        "Third, attributes were combined with `GeoSeries`.\n",
        "This results in an `GeoDataFrame` object, named `lnd_layer`.\n",
        "\n",
        "To illustrate how does creating a layer with more than one feature looks like, here is an example where we create a layer with two points, London and Paris."
      ]
    },
    {
      "cell_type": "code",
      "execution_count": null,
      "metadata": {},
      "outputs": [],
      "source": [
        "lnd_point = shapely.Point(0.1, 51.5)\n",
        "paris_point = shapely.Point(2.3, 48.9)\n",
        "towns_geom = gpd.GeoSeries([lnd_point, paris_point], crs=4326)\n",
        "towns_data = {\n",
        "  'name': ['London', 'Paris'],\n",
        "  'temperature': [25, 27],\n",
        "  'date': ['2013-06-21', '2013-06-21'],\n",
        "  'geometry': towns_geom\n",
        "}\n",
        "towns_layer = gpd.GeoDataFrame(towns_data)\n",
        "towns_layer"
      ]
    },
    {
      "cell_type": "markdown",
      "metadata": {},
      "source": [
        "Now, we are able to create an interactive map of the `towns_layer` object (@fig-layer-from-scratch-explore).\n",
        "To make the points easier to see, we are customizing a fill color and size (we elaborate on `.explore` options in @sec-interactive-maps).\n",
        "\n",
        ":::  {.content-visible when-format=\"html\"}"
      ]
    },
    {
      "cell_type": "code",
      "execution_count": null,
      "metadata": {},
      "outputs": [],
      "source": [
        "#| label: fig-layer-from-scratch-explore\n",
        "#| fig-cap: '`towns_layer`, created from scratch, visualized using `.explore`'\n",
        "towns_layer.explore(color='red', marker_kwds={'radius': 10})"
      ]
    },
    {
      "cell_type": "markdown",
      "metadata": {},
      "source": [
        ":::\n",
        ":::  {.content-visible when-format=\"pdf\"}"
      ]
    },
    {
      "cell_type": "code",
      "execution_count": null,
      "metadata": {},
      "outputs": [],
      "source": [
        "#| eval: false\n",
        "towns_layer.explore(color='red', marker_kwds={'radius': 10})"
      ]
    },
    {
      "cell_type": "code",
      "execution_count": null,
      "metadata": {},
      "outputs": [],
      "source": [
        "#| echo: false\n",
        "#| output: false\n",
        "#| error: true\n",
        "map_to_png.map_to_png(towns_layer.explore(color='red', marker_kwds={'radius': 10}), 'fig-layer-from-scratch-explore')"
      ]
    },
    {
      "cell_type": "markdown",
      "metadata": {},
      "source": [
        "![`towns_layer`, created from scratch, visualized using `.explore`](images/fig-layer-from-scratch-explore.png){#fig-layer-from-scratch-explore}\n",
        ":::\n",
        "\n",
        "A spatial (point) layer can be also created from a `DataFrame` object (package **pandas**) that contains columns with coordinates.\n",
        "To demonstrate, we hereby first create a `GeoSeries` object from the coordinates, and then combine it with the `DataFrame` to form a `GeoDataFrame`."
      ]
    },
    {
      "cell_type": "code",
      "execution_count": null,
      "metadata": {},
      "outputs": [],
      "source": [
        "towns_table = pd.DataFrame({\n",
        "  'name': ['London', 'Paris'],\n",
        "  'temperature': [25, 27],\n",
        "  'date': ['2017-06-21', '2017-06-21'],\n",
        "  'x': [0.1, 2.3],\n",
        "  'y': [51.5, 48.9]\n",
        "})\n",
        "towns_geom = gpd.points_from_xy(towns_table['x'], towns_table['y'])\n",
        "towns_layer = gpd.GeoDataFrame(towns_table, geometry=towns_geom, crs=4326)"
      ]
    },
    {
      "cell_type": "markdown",
      "metadata": {},
      "source": [
        "The output gives the same result as previous `towns_layer`.\n",
        "This approach is particularly useful when we need to read data from a CSV file, e.g., using `pd.read_csv`, and want to turn the resulting `DataFrame` into a `GeoDataFrame` (see another example in @sec-spatial-joining).\n",
        "\n",
        "### Derived numeric properties {#sec-area-length}\n",
        "\n",
        "Vector layers are characterized by two essential derived numeric properties: *length* (`.length`)---applicable to lines, and *area* (`.area`)---applicable to polygons.\n",
        "Area and length can be calculated for any data structures discussed above, either a `shapely` geometry, in which case the returned value is a number, or for `GeoSeries` or `DataFrame`, in which case the returned value is a numeric `Series`."
      ]
    },
    {
      "cell_type": "code",
      "execution_count": null,
      "metadata": {},
      "outputs": [],
      "source": [
        "linestring.length"
      ]
    },
    {
      "cell_type": "code",
      "execution_count": null,
      "metadata": {},
      "outputs": [],
      "source": [
        "multipolygon.area"
      ]
    },
    {
      "cell_type": "code",
      "execution_count": null,
      "metadata": {},
      "outputs": [],
      "source": [
        "gpd.GeoSeries([point, linestring, polygon, multipolygon]).area"
      ]
    },
    {
      "cell_type": "markdown",
      "metadata": {},
      "source": [
        "Like all numeric calculations in **geopandas**, the results assume a planar CRS and are returned in its native units.\n",
        "This means that length and area measurements for geometries in WGS84 (`crs=4326`) are returned in decimal degrees and essentially meaningless (to see the warning, try running `gdf.area`).\n",
        "\n",
        "To obtain meaningful length and area measurements for data in a geographic CRS, the geometries first need to be transformed to a projected CRS (see @sec-reprojecting-vector-geometries) applicable to the area of interest.\n",
        "For example, the area of Slovenia can be calculated in the UTM zone 33N CRS (`crs=32633`).\n",
        "The result is in $m^2$, the units of the UTM zone 33N CRS."
      ]
    },
    {
      "cell_type": "code",
      "execution_count": null,
      "metadata": {},
      "outputs": [],
      "source": [
        "gdf[gdf['name_long'] == 'Slovenia'].to_crs(32633).area"
      ]
    },
    {
      "cell_type": "markdown",
      "metadata": {},
      "source": [
        "## Raster data {#sec-raster-data}\n",
        "\n",
        "The spatial raster data model represents the world with the continuous grid of cells (often also called pixels; @fig-raster-intro-plot1 (A)). \n",
        "This data model often refers to so-called regular grids, in which each cell has the same, constant size---and we will focus only on regular grids in this book. \n",
        "However, several other types of grids exist, including rotated, sheared, rectilinear, and curvilinear grids (see Chapter 1 of @pebesma_spatial_2022 or Chapter 2 of @tennekes_elegant_2022).\n",
        "\n",
        "The raster data model usually consists of a raster header (or metadata) and a matrix (with rows and columns) representing equally spaced cells (often also called pixels; @fig-raster-intro-plot1 (A)). \n",
        "The raster header defines the coordinate reference system, the origin and the resolution. \n",
        "The origin (or starting point) is typically the coordinate of the lower-left corner of the matrix. \n",
        "The metadata defines the origin, and the cell size, i.e., resolution.\n",
        "Combined with the column and row count, the extent can also be derived.\n",
        "The matrix representation avoids storing explicitly the coordinates for the four corner points (in fact it only stores one coordinate, namely the origin) of each cell, as would be the case for rectangular vector polygons.\n",
        "This and map algebra (@sec-map-algebra) makes raster processing much more efficient and faster than vector data processing. \n",
        "However, in contrast to vector data, the cell of one raster layer can only hold a single value. \n",
        "The cell values are numeric, representing either a continuous or a categorical variable (@fig-raster-intro-plot1 (C)).\n",
        "\n",
        "![Raster data types: (A) cell IDs, (B) cell values, (C) a colored raster map](images/raster-intro-plot1.png){#fig-raster-intro-plot1}\n",
        "\n",
        "Raster maps usually represent continuous phenomena such as elevation, temperature, population density, or spectral data. \n",
        "Discrete features such as soil or land-cover classes can also be represented in the raster data model. \n",
        "Both uses of raster datasets are illustrated in @fig-raster-intro-plot2, which shows how the borders of discrete features may become blurred in raster datasets. \n",
        "Depending on the nature of the application, vector representations of discrete features may be more suitable.\n",
        "\n",
        "![Examples of continuous and categorical rasters](images/raster-intro-plot2.png){#fig-raster-intro-plot2}\n",
        "\n",
        "As mentioned above, working with rasters in Python is less organized around one comprehensive package as compared to the case for vector layers and **geopandas**.\n",
        "Instead, several packages provide alternative subsets of methods for working with raster data.\n",
        "\n",
        "The two most notable approaches for working with rasters in Python are provided by **rasterio** and **rioxarray** packages.\n",
        "As we will see shortly, they differ in scope and underlying data models.\n",
        "Specifically, **rasterio** represents rasters as **numpy** arrays associated with a separate object holding the spatial metadata.\n",
        "The **rioxarray** package, a wrapper of **rasterio**, however, represents rasters with **xarray** 'extended' arrays, which are an extension of **numpy** array designed to hold axis labels and attributes in the same object, together with the array of raster values.\n",
        "Similar approaches are provided by less well-known **xarray-spatial** and **geowombat** packages.\n",
        "Comparatively, **rasterio** is more well-established, but it is more low-level (which has both advantages and distadvantages).\n",
        "\n",
        "All of the above-mentioned packages, however, are not exhaustive in the same way **geopandas** is.\n",
        "For example, when working with **rasterio**, more packages may be needed to accomplish common tasks such as zonal statistics (package **rasterstats**) or calculating topographic indices (package **richdem**).\n",
        "<!-- On the other hand, **xarray** was extended to accommodate spatial operators missing from the core package itself, with the **rioxarray** and **xarray-spatial** packages. -->\n",
        "\n",
        "In the following two sections, we introduce **rasterio**, which is the raster-related package we are going to work with through the rest of the book.\n",
        "\n",
        "### Using **rasterio** {#sec-using-rasterio}\n",
        "\n",
        "To work with the **rasterio** package, we first need to import it.\n",
        "Additionally, as the raster data is stored within **numpy** arrays, we import the **numpy** package and make all its functions accessible for effective data manipulation. \n",
        "Finally, we import the **rasterio.plot** sub-module for its `rasterio.plot.show` function that allows for quick visualization of rasters."
      ]
    },
    {
      "cell_type": "code",
      "execution_count": null,
      "metadata": {},
      "outputs": [],
      "source": [
        "import numpy as np\n",
        "import rasterio\n",
        "import rasterio.plot"
      ]
    },
    {
      "cell_type": "markdown",
      "metadata": {},
      "source": [
        "Rasters are typically imported from existing files.\n",
        "When working with **rasterio**, importing a raster is actually a two-step process:\n",
        "\n",
        "-   First, we open a raster file 'connection' using `rasterio.open`\n",
        "-   Second, we read raster values from the connection using the `.read` method\n",
        "\n",
        "This type of separation is analogous to basic Python functions for reading from files, such as `open` and `.readline` to read from a text file.\n",
        "The rationale is that we do not always want to read all information from the file into memory, which is particularly important as rasters size can be larger than RAM size.\n",
        "Accordingly, the second step (`.read`) is selective, meaning that the user can fine-tune the subset of values (bands, rows/columns, resolution, etc.) that are actually being read.\n",
        "For example, we may want to read just one raster band rather than reading all bands.\n",
        "\n",
        "In the first step, we pass a file path to the `rasterio.open` function to create a `DatasetReader` file connection, hereby named `src`.\n",
        "For this example, we use a single-band raster representing elevation in Zion National Park, stored in `srtm.tif`."
      ]
    },
    {
      "cell_type": "code",
      "execution_count": null,
      "metadata": {},
      "outputs": [],
      "source": [
        "src = rasterio.open('data/srtm.tif')\n",
        "src"
      ]
    },
    {
      "cell_type": "markdown",
      "metadata": {},
      "source": [
        "To get a first impression of the raster values, we can plot the raster using the `rasterio.plot.show` function (@fig-rasterio-plot):"
      ]
    },
    {
      "cell_type": "code",
      "execution_count": null,
      "metadata": {},
      "outputs": [],
      "source": [
        "#| label: fig-rasterio-plot\n",
        "#| fig-cap: Basic plot of a raster, the data are coming from a **rasterio** file connection\n",
        "#| out-width: 60%\n",
        "rasterio.plot.show(src);"
      ]
    },
    {
      "cell_type": "markdown",
      "metadata": {},
      "source": [
        "The `DatasetReader` contains the raster metadata, that is, all of the information other than the raster values.\n",
        "Let's examine it with the `.meta` property."
      ]
    },
    {
      "cell_type": "code",
      "execution_count": null,
      "metadata": {},
      "outputs": [],
      "source": [
        "src.meta"
      ]
    },
    {
      "cell_type": "markdown",
      "metadata": {},
      "source": [
        "Namely, it allows us to see the following properties, which we will elaborate on below, and in later chapters:\n",
        "\n",
        "-   `driver`---The raster file format (see @sec-data-output-raster)\n",
        "-   `dtype`---Data type (see @tbl-numpy-data-types)\n",
        "-   `nodata`---The value being used as 'No Data' flag (see @sec-data-output-raster)\n",
        "-   Dimensions:\n",
        "    - `width`---Number of columns\n",
        "    - `height`---Number of rows\n",
        "    - `count`---Number of bands\n",
        "-   `crs`---Coordinate reference system (see @sec-querying-and-setting-coordinate-systems)\n",
        "-   `transform`---The raster affine transformation matrix\n",
        "\n",
        "The last item (i.e., `transform`) deserves more attention.\n",
        "To position a raster in geographical space, in addition to the CRS, we must specify the raster *origin* ($x_{min}$, $y_{max}$) and resolution ($delta_{x}$, $delta_{y}$).\n",
        "In the transformation matrix notation, assuming a regular grid, these data items are stored as follows:\n",
        "\n",
        "```{text}\n",
        "Affine(delta_x, 0.0, x_min,\n",
        "       0.0, delta_y, y_max)\n",
        "```\n",
        "\n",
        "Note that, by convention, raster y-axis origin is set to the maximum value ($y_{max}$) rather than the minimum, and, accordingly, the y-axis resolution ($delta_{y}$) is negative.\n",
        "In other words, since the origin is in the *top*-left corner, advancing along the y-axis is done through negative steps (downwards).\n",
        "\n",
        "In the second step, the `.read` method of the `DatasetReader` is used to read the actual raster values.\n",
        "Importantly, we can read:\n",
        "\n",
        "-   All layers (as in `.read()`)\n",
        "-   A particular layer, passing a numeric index (as in `.read(1)`)\n",
        "-   A subset of layers, passing a `list` of indices (as in `.read([1,2])`)\n",
        "\n",
        "Note that the layer indices start from `1`, contrary to the Python convention of the first index being `0`.\n",
        "\n",
        "The object returned by `.read` is a **numpy** array [@numpy], with either two or three dimensions:\n",
        "\n",
        "-   *Three* dimensions, when reading more than one layer (e.g., `.read()` or `.read([1,2])`). In such case, the dimensions pattern is `(layers, rows, columns)`\n",
        "-   *Two* dimensions, when reading one specific layer (e.g., `.read(1)`). In such case, the dimensions pattern is `(rows, columns)`\n",
        "\n",
        "Let's read the first (and only) layer from the `srtm.tif` raster, using the file connection object `src` and the `.read` method."
      ]
    },
    {
      "cell_type": "code",
      "execution_count": null,
      "metadata": {},
      "outputs": [],
      "source": [
        "src.read(1)"
      ]
    },
    {
      "cell_type": "markdown",
      "metadata": {},
      "source": [
        "The result is a two-dimensional **numpy** array where each value represents the elevation of the corresponding pixel.\n",
        "\n",
        "The relation between a **rasterio** file connection and the derived properties is summarized in @fig-rasterio-structure.\n",
        "The file connection (created with `rasterio.open`) gives access to the two components of raster data: the metadata (via the `.meta` property) and the values (via the `.read` method).\n",
        "\n",
        "![Creating a `GeoDataFrame` from scratch](images/rasterio-structure.svg){#fig-rasterio-structure}\n",
        "\n",
        "### Raster from scratch {#sec-raster-from-scratch}\n",
        "\n",
        "In this section, we are going to demonstrate the creation of rasters from scratch.\n",
        "We will construct two small rasters, `elev` and `grain`, which we will use in examples later in the book.\n",
        "Unlike creating a vector layer (see @sec-vector-layer-from-scratch), creating a raster from scratch is rarely needed in practice because aligning a raster with the proper spatial extent is challenging to do programmatically ('georeferencing' tools in GIS software are a better fit for the job).\n",
        "Nevertheless, the examples will be helpful to become more familiar with the **rasterio** data structures.\n",
        "\n",
        "Conceptually, a raster is an array combined with georeferencing information, whereas the latter comprises:\n",
        "\n",
        "-   A transformation matrix, containing the origin and resolution, thus linking pixel indices with coordinates in a particular coordinate system\n",
        "-   A CRS definition, specifying the association of that coordinate system with the surface of the earth (optional)\n",
        "\n",
        "Therefore, to create a raster, we first need to have an array with the values, and then supplement it with the georeferencing information.\n",
        "Let's create the arrays `elev` and `grain`.\n",
        "The `elev` array is a $6 \\times 6$ array with sequential values from `1` to `36`.\n",
        "It can be created as follows using the `np.arange` function and `.reshape` method from **numpy**."
      ]
    },
    {
      "cell_type": "code",
      "execution_count": null,
      "metadata": {},
      "outputs": [],
      "source": [
        "elev = np.arange(1, 37, dtype=np.uint8).reshape(6, 6)\n",
        "elev"
      ]
    },
    {
      "cell_type": "markdown",
      "metadata": {},
      "source": [
        "The `grain` array represents a categorical raster with values `0`, `1`, `2`, corresponding to categories 'clay', 'silt', 'sand', respectively.\n",
        "We will create it from a specific arrangement of pixel values, using **numpy**'s `np.array` and `.reshape`."
      ]
    },
    {
      "cell_type": "code",
      "execution_count": null,
      "metadata": {},
      "outputs": [],
      "source": [
        "v = [\n",
        "  1, 0, 1, 2, 2, 2, \n",
        "  0, 2, 0, 0, 2, 1, \n",
        "  0, 2, 2, 0, 0, 2, \n",
        "  0, 0, 1, 1, 1, 1, \n",
        "  1, 1, 1, 2, 1, 1, \n",
        "  2, 1, 2, 2, 0, 2\n",
        "]\n",
        "grain = np.array(v, dtype=np.uint8).reshape(6, 6)\n",
        "grain"
      ]
    },
    {
      "cell_type": "markdown",
      "metadata": {},
      "source": [
        "Note that in both cases, we are using the `uint8` (unsigned integer in 8 bits, i.e., `0-255`) data type, which is sufficient to represent all possible values of the given rasters (see @tbl-numpy-data-types).\n",
        "This is the recommended approach for a minimal memory footprint.\n",
        "\n",
        "What is missing now is the georeferencing information (see @sec-using-rasterio).\n",
        "In this case, since the rasters are arbitrary, we also set up an arbitrary transformation matrix, where:\n",
        "\n",
        "-   The origin ($x_{min}$, $y_{max}$) is at `-1.5,1.5`\n",
        "-   The raster resolution ($delta_{x}$, $delta_{y}$) is `0.5,-0.5`\n",
        "\n",
        "We can add this information using `rasterio.transform.from_origin`, and specifying `west`, `north`, `xsize`, and `ysize` parameters.\n",
        "The resulting transformation matrix object is hereby named `new_transform`."
      ]
    },
    {
      "cell_type": "code",
      "execution_count": null,
      "metadata": {},
      "outputs": [],
      "source": [
        "new_transform = rasterio.transform.from_origin(\n",
        "    west=-1.5, \n",
        "    north=1.5, \n",
        "    xsize=0.5, \n",
        "    ysize=0.5\n",
        ")\n",
        "new_transform"
      ]
    },
    {
      "cell_type": "markdown",
      "metadata": {},
      "source": [
        "Note that, confusingly, $delta_{y}$ (i.e., `ysize`) is defined in `rasterio.transform.from_origin` using a positive value (`0.5`), even though it is, in fact, negative (`-0.5`).\n",
        "\n",
        "The raster can now be plotted in its coordinate system, passing the array `elev` along with the transformation matrix `new_transform` to `rasterio.plot.show` (@fig-rasterio-plot-elev)."
      ]
    },
    {
      "cell_type": "code",
      "execution_count": null,
      "metadata": {},
      "outputs": [],
      "source": [
        "#| label: fig-rasterio-plot-elev\n",
        "#| fig-cap: Plot of the `elev` raster, a minimal example of a continuous raster, created from scratch\n",
        "rasterio.plot.show(elev, transform=new_transform);"
      ]
    },
    {
      "cell_type": "markdown",
      "metadata": {},
      "source": [
        "The `grain` raster can be plotted the same way, as we are going to use the same transformation matrix for it as well (@fig-rasterio-plot-grain)."
      ]
    },
    {
      "cell_type": "code",
      "execution_count": null,
      "metadata": {},
      "outputs": [],
      "source": [
        "#| label: fig-rasterio-plot-grain\n",
        "#| fig-cap: Plot of the `grain` raster, a minimal example of a categorical raster, created from scratch\n",
        "rasterio.plot.show(grain, transform=new_transform);"
      ]
    },
    {
      "cell_type": "markdown",
      "metadata": {},
      "source": [
        "At this point, we have two rasters, each composed of an array and related transformation matrix.\n",
        "We can work with the raster using **rasterio** by:\n",
        "\n",
        "-   Passing the transformation matrix wherever actual raster pixel coordinates are important (such as in function `rasterio.plot.show` above)\n",
        "-   Keeping in mind that any other layer we use in the analysis is in the same CRS\n",
        "\n",
        "Finally, to export the raster for permanent storage, along with the spatial metadata, we need to go through the following steps:\n",
        "\n",
        "1.  Create a raster file connection (where we set the transform and the CRS, among other settings)\n",
        "2.  Write the array with raster values into the connection\n",
        "3.  Close the connection\n",
        "\n",
        "Don't worry if the code below is unclear; the concepts related to writing raster data to file will be explained in @sec-data-output-raster. \n",
        "For now, for completeness, and also to use these rasters in subsequent chapters without having to re-create them from scratch, we just provide the code for exporting the `elev` and `grain` rasters into the `output` directory.\n",
        "In the case of `elev`, we do it as follows with the `rasterio.open`, `.write`, and `.close` functions and methods of the **rasterio** package."
      ]
    },
    {
      "cell_type": "code",
      "execution_count": null,
      "metadata": {},
      "outputs": [],
      "source": [
        "#| eval: false\n",
        "new_dataset = rasterio.open(\n",
        "    'output/elev.tif', 'w', \n",
        "    driver='GTiff',\n",
        "    height=elev.shape[0],\n",
        "    width=elev.shape[1],\n",
        "    count=1,\n",
        "    dtype=elev.dtype,\n",
        "    crs=4326,\n",
        "    transform=new_transform\n",
        ")\n",
        "new_dataset.write(elev, 1)\n",
        "new_dataset.close()"
      ]
    },
    {
      "cell_type": "markdown",
      "metadata": {},
      "source": [
        "Note that the CRS we (arbitrarily) set for the `elev` raster is WGS84, defined using `crs=4326` according to the EPSG code.\n",
        "\n",
        "Exporting the `grain` raster is done in the same way, with the only differences being the file name and the array we write into the connection."
      ]
    },
    {
      "cell_type": "code",
      "execution_count": null,
      "metadata": {},
      "outputs": [],
      "source": [
        "#| eval: false\n",
        "new_dataset = rasterio.open(\n",
        "    'output/grain.tif', 'w', \n",
        "    driver='GTiff',\n",
        "    height=grain.shape[0],\n",
        "    width=grain.shape[1],\n",
        "    count=1,\n",
        "    dtype=grain.dtype,\n",
        "    crs=4326,\n",
        "    transform=new_transform\n",
        ")\n",
        "new_dataset.write(grain, 1)\n",
        "new_dataset.close()"
      ]
    },
    {
      "cell_type": "markdown",
      "metadata": {},
      "source": [
        "As a result, the files `elev.tif` and `grain.tif` are written into the `output` directory.\n",
        "We are going to use these small raster files later on in the examples (for example, @sec-raster-subsetting).\n",
        "\n",
        "Note that the transform matrices and dimensions of `elev` and `grain` are identical.\n",
        "This means that the rasters are overlapping, and can be combined into one two-band raster, processed in raster algebra operations (@sec-map-algebra), etc.\n",
        "\n",
        "## Coordinate Reference Systems {#sec-coordinate-reference-systems-intro}\n",
        "\n",
        "Vector and raster spatial data types share concepts intrinsic to spatial data.\n",
        "Perhaps the most fundamental of these is the Coordinate Reference System (CRS), which defines how the spatial elements of the data relate to the surface of the Earth (or other bodies).\n",
        "CRSs are either geographic or projected, as introduced at the beginning of this chapter (@sec-vector-data).\n",
        "This section explains each type, laying the foundations for @sec-reproj-geo-data, which provides a deep dive into setting, transforming, and querying CRSs.\n",
        "\n",
        "### Geographic coordinate systems\n",
        "\n",
        "Geographic coordinate systems identify any location on the Earth's surface using two values---longitude and latitude (see left panel of @fig-zion-crs).\n",
        "Longitude is a location in the East-West direction in angular distance from the Prime Meridian plane, while latitude is an angular distance North or South of the equatorial plane.\n",
        "Distances in geographic CRSs are therefore not measured in meters.\n",
        "This has important consequences, as demonstrated in @sec-reproj-geo-data.\n",
        "\n",
        "A spherical or ellipsoidal surface represents the surface of the Earth in geographic coordinate systems.\n",
        "Spherical models assume that the Earth is a perfect sphere of a given radius---they have the advantage of simplicity, but, at the same time, they are inaccurate: the Earth is not a sphere!\n",
        "Ellipsoidal models are defined by two parameters: the equatorial radius and the polar radius.\n",
        "These are suitable because the Earth is compressed: the equatorial radius is around 11.5 $km$ longer than the polar radius.\n",
        "<!-- TODO: add reference, (Maling 1992...). -->\n",
        "The Earth is not an ellipsoid either, but it is a better approximation than a sphere.\n",
        "\n",
        "Ellipsoids are part of a broader component of CRSs: the datum.\n",
        "It contains information on what ellipsoid to use and the precise relationship between the Cartesian coordinates and location on the Earth's surface.\n",
        "There are two types of datum---geocentric (such as WGS84) and local (such as NAD83).\n",
        "You can see examples of these two types of datums in @fig-geocentric-vs-local.\n",
        "Black lines represent a geocentric datum, whose center is located in the Earth's center of gravity and is not optimized for a specific location.\n",
        "In a local datum, shown as a purple dashed line, the ellipsoidal surface is shifted to align with the surface at a particular location.\n",
        "These allow local variations on Earth's surface, such as large mountain ranges, to be accounted for in a local CRS.\n",
        "This can be seen in @fig-geocentric-vs-local, where the local datum is fitted to the area of Philippines, but is misaligned with most of the rest of the planet's surface.\n",
        "Both datums in @fig-geocentric-vs-local are put on top of a geoid---a model of global mean sea level.\n",
        "\n",
        "![Geocentric and local geodetic datums shown on top of a geoid (in false color and the vertical exaggeration by 10,000 scale factor). Image of the geoid is adapted from the work of [@essd-11-647-2019].](images/geocompr_02_datum_fig.png){#fig-geocentric-vs-local}\n",
        "\n",
        "### Projected coordinate reference systems {#sec-projected-coordinate-reference-systems}\n",
        "\n",
        "All projected CRSs are based on a geographic CRS, described in the previous section, and rely on map projections to convert the three-dimensional surface of the Earth into Easting and Northing (x and y) values in a projected CRS.\n",
        "Projected CRSs are based on Cartesian coordinates on an implicitly flat surface (see right panel of @fig-zion-crs).\n",
        "They have an origin, x and y axes, and a linear unit of measurement such as meters.\n",
        "\n",
        "This transition cannot be done without adding some deformations.\n",
        "Therefore, some properties of the Earth's surface are distorted in this process, such as area, direction, distance, and shape.\n",
        "A projected coordinate system can preserve only one or two of those properties.\n",
        "Projections are often named based on a property they preserve: equal-area preserves area, azimuthal preserves direction, equidistant preserves distance, and conformal preserves local shape.\n",
        "\n",
        "There are three main groups of projection types: conic, cylindrical, and planar (azimuthal).\n",
        "In a conic projection, the Earth's surface is projected onto a cone along a single line of tangency or two lines of tangency.\n",
        "Distortions are minimized along the tangency lines and rise with the distance from those lines in this projection.\n",
        "Therefore, it is best suited for maps of mid-latitude areas.\n",
        "A cylindrical projection maps the surface onto a cylinder.\n",
        "This projection could also be created by touching the Earth's surface along a single line of tangency or two lines of tangency.\n",
        "Cylindrical projections are used most often when mapping the entire world.\n",
        "A planar projection projects data onto a flat surface touching the globe at a point or along a line of tangency.\n",
        "It is typically used in mapping polar regions.\n",
        "\n",
        "### CRS in Python {#sec-crs-python}\n",
        "\n",
        "Like most open-source geospatial software, the **geopandas** and **rasterio** packages use the PROJ software for CRS definition and calculations.\n",
        "The **pyproj** package is a low-level interface to PROJ.\n",
        "Using its functions, such as `get_codes` and `from_epsg`, we can examine the list of projections supported by PROJ."
      ]
    },
    {
      "cell_type": "code",
      "execution_count": null,
      "metadata": {},
      "outputs": [],
      "source": [
        "import pyproj\n",
        "epsg_codes = pyproj.get_codes('EPSG', 'CRS')  ## Supported EPSG codes\n",
        "epsg_codes[:5]  ## Print first five supported EPSG codes"
      ]
    },
    {
      "cell_type": "code",
      "execution_count": null,
      "metadata": {},
      "outputs": [],
      "source": [
        "pyproj.CRS.from_epsg(4326)  ## Printout of WGS84 CRS (EPSG:4326)"
      ]
    },
    {
      "cell_type": "markdown",
      "metadata": {},
      "source": [
        "A quick summary of different projections, their types, properties, and suitability can be found at <https://www.geo-projections.com/>.\n",
        "We will expand on CRSs and explain how to project from one CRS to another in @sec-reproj-geo-data.\n",
        "But, for now, it is sufficient to know:\n",
        "\n",
        "-   That coordinate systems are a key component of geographic objects\n",
        "-   Knowing which CRS your data is in, and whether it is in geographic (lon/lat) or projected (typically meters), is important and has consequences for how Python handles spatial and geometry operations\n",
        "-   CRSs of **geopandas** (vector layer or geometry column) and **rasterio** (raster) objects can be queried with the `.crs` property\n",
        "\n",
        "Here is a demonstration of the last bullet point, where we import a vector layer and figure out its CRS (in this case, a projected CRS, namely UTM Zone 12) using the `.crs` property."
      ]
    },
    {
      "cell_type": "code",
      "execution_count": null,
      "metadata": {},
      "outputs": [],
      "source": [
        "zion = gpd.read_file('data/zion.gpkg')\n",
        "zion.crs"
      ]
    },
    {
      "cell_type": "markdown",
      "metadata": {},
      "source": [
        "We can also illustrate the difference between a geographic and a projected CRS by plotting the `zion` data in both CRSs (@fig-zion-crs). Note that we are using the `.grid` method of **matplotlib** to draw grid lines on top of the plot."
      ]
    },
    {
      "cell_type": "code",
      "execution_count": null,
      "metadata": {},
      "outputs": [],
      "source": [
        "#| label: fig-zion-crs\n",
        "#| fig-cap: Examples of Coordinate Reference Systems (CRS) for a vector layer \n",
        "#| fig-subcap: \n",
        "#| - Geographic (WGS84)\n",
        "#| - Projected (NAD83 / UTM zone 12N)\n",
        "#| layout-ncol: 2\n",
        "# WGS84\n",
        "zion.to_crs(4326).plot(edgecolor='black', color='lightgrey').grid()\n",
        "# NAD83 / UTM zone 12N\n",
        "zion.plot(edgecolor='black', color='lightgrey').grid();"
      ]
    },
    {
      "cell_type": "markdown",
      "metadata": {},
      "source": [
        "We are going to elaborate on reprojection from one CRS to another (`.to_crs` in the above code section) in @sec-reproj-geo-data.\n",
        "\n",
        "## Units\n",
        "\n",
        "An important feature of CRSs is that they contain information about spatial units.\n",
        "Clearly, it is vital to know whether a house's measurements are in feet or meters, and the same applies to maps.\n",
        "It is a good cartographic practice to add a scale bar or some other distance indicator onto maps to demonstrate the relationship between distances on the page or screen and distances on the ground.\n",
        "Likewise, it is important for the user to be aware of the units in which the geometry coordinates are, to ensure that subsequent calculations are done in the right context.\n",
        "\n",
        "Python spatial data structures in **geopandas** and **rasterio** do not natively support the concept of measurement units.\n",
        "The coordinates of a vector layer or a raster are plain numbers, referring to an arbitrary plane.\n",
        "For example, according to the `.transform` matrix of `srtm.tif` we can see that the raster resolution is `0.000833` and that its CRS is WGS84 (EPSG: `4326`):"
      ]
    },
    {
      "cell_type": "code",
      "execution_count": null,
      "metadata": {},
      "outputs": [],
      "source": [
        "src.meta"
      ]
    },
    {
      "cell_type": "markdown",
      "metadata": {},
      "source": [
        "You may already know that the units of the WGS84 coordinate system (EPSG:4326) are decimal degrees.\n",
        "However, that information is not accounted for in any numeric calculation, meaning that operations such as buffers can be returned in units of degrees, which is not appropriate in most cases.\n",
        "\n",
        "Consequently, you should always be aware of the CRS of your datasets and the units they use.\n",
        "Typically, these are decimal degrees, in a geographic CRS, or $m$, in a projected CRS, although there are exceptions.\n",
        "Geometric calculations such as length, area, or distance, return plain numbers in the same units of the CRS (such as $m$ or $m^2$).\n",
        "It is up to the user to determine which units the result is given in, and treat the result accordingly.\n",
        "For example, if the area output was in $m^2$ and we need the result in $km^2$, then we need to divide the result by $1000^2$.\n",
        "\n",
        "<!-- ## Exercises -->\n"
      ]
    }
  ],
  "metadata": {
    "kernelspec": {
      "display_name": "Python 3",
      "language": "python",
      "name": "python3"
    }
  },
  "nbformat": 4,
  "nbformat_minor": 4
}
